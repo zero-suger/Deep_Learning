{
  "nbformat": 4,
  "nbformat_minor": 0,
  "metadata": {
    "colab": {
      "provenance": []
    },
    "kernelspec": {
      "name": "python3",
      "display_name": "Python 3"
    },
    "language_info": {
      "name": "python"
    },
    "gpuClass": "standard"
  },
  "cells": [
    {
      "cell_type": "code",
      "execution_count": null,
      "metadata": {
        "id": "DotfmET4ak0_",
        "colab": {
          "base_uri": "https://localhost:8080/"
        },
        "outputId": "9fb56bc9-6144-4bd7-bcdf-6284a2984fe4"
      },
      "outputs": [
        {
          "output_type": "stream",
          "name": "stdout",
          "text": [
            "2.0.0+cu118\n"
          ]
        }
      ],
      "source": [
        "import torch\n",
        "import numpy as np\n",
        "import pandas as pd\n",
        "import matplotlib.pyplot as plt\n",
        "\n",
        "print(torch.__version__)\n",
        "\n"
      ]
    },
    {
      "cell_type": "markdown",
      "source": [
        "# Introduction to Tensors :"
      ],
      "metadata": {
        "id": "erT0ZwBCv2oB"
      }
    },
    {
      "cell_type": "code",
      "source": [
        "from torch.storage import T\n",
        "scaler = torch.tensor(7)\n",
        "print(f'{scaler} and {scaler.ndim} dimension.')\n",
        "\n",
        "vector = torch.tensor([1,7])\n",
        "print(f'{vector} and {vector.ndim} dimension.')\n",
        "\n",
        "MATRIX = torch.tensor([[1,3], [3,5]])\n",
        "print(f'{MATRIX} and {MATRIX.ndim} dimension.')\n",
        "\n",
        "TENSOR = torch.tensor([[[1, 2, 3],\n",
        "                        [4, 5, 6],\n",
        "                        [7, 8, 9]\n",
        "                        ]])\n",
        "print(f'{TENSOR} and {TENSOR.ndim} dimension.')\n",
        "\n",
        "\n",
        "# importing random numbers for tensor:\n",
        "\n",
        "random_tensor = torch.rand(2,3)\n",
        "random_tensor\n",
        "\n",
        "# ones and zeros\n",
        "\n",
        "ones = torch.ones(3,4) # print three by four tensor consists of only ones\n",
        "zeros = torch.zeros(3,4)  # print three by four tensor consists of only zeros\n",
        "\n",
        "zeros.dtype # show the types of data\n",
        "\n",
        "# creating the range of tensors and tensor-like\n",
        "\n",
        "tensor_range = torch.arange(1, 77, 2) # in latest update of pytorch we should use arange instead of range  \n",
        "tensor_like = torch.zeros_like(tensor_range) # take the size of above mentioned tensor and make the same size of tensor like that\n",
        "\n",
        "# tensor operations  \n",
        "\n",
        "tensor_number_set = torch.tensor([1, 2, 3, 4, 5, 6])\n",
        "tensor_number_set + 10 # torch.add(tensor_number_set, 10)\n",
        "tensor_number_set * 10 # torch.mul(tensor_number_set, 10)\n",
        "tensor_number_set - 10\n",
        "\n",
        "#matrix multipilication. \n",
        "\n",
        "tensor_number_set = torch.tensor([1, 2, 3, 4, 5, 6])\n",
        "torch.matmul(tensor_number_set, tensor_number_set) # torch.matmul is equal to torch.mm \n",
        "\n",
        "# common mistakes and two main rules: 1) innter dimension must match which means that (3,2) and (3,2) can't multiply\n",
        "# because inner value should match. and (3, 2) * (2, 3), now inner values match two and two. For example :\n",
        "\n",
        "first_set = torch.tensor([[1,2],\n",
        "                         [3,4],\n",
        "                         [5,6]])\n",
        "second_set = torch.tensor([[7,8],\n",
        "                          [9,10],\n",
        "                          [11,12]])\n",
        "\n",
        "\n",
        "#RuntimeError: mat1 and mat2 shapes cannot be multiplied (3x2 and 3x2) : bcz od inner dimension problem. To solve this, we can use,\n",
        "#'Transpose' (tensor_set_name.T) which switches the axes or dimensions of the given tensor.\n",
        "\n",
        "first_set = first_set.T \n",
        "torch.mm(first_set, second_set)\n",
        "\n",
        "# Finding min, max, mean, sum, etc (tensor aggregation)\n",
        "\n",
        "tensor_aggregation = torch.rand(1,10)\n",
        "torch.min(tensor_aggregation)\n",
        "torch.max(tensor_aggregation)\n",
        "torch.mean(tensor_aggregation)\n",
        "torch.sum(tensor_aggregation)\n",
        "\n",
        "# finding the min and max value position\n",
        "\n",
        "tensor_aggregation.argmin() # index of min value\n",
        "tensor_aggregation.argmin() # index of max value\n",
        "\n",
        "# reproducbility random _seed as the same as sklearn\n",
        "\n",
        "RANDOM_SEED = 42\n",
        "\n",
        "torch.manual_seed(RANDOM_SEED)\n",
        "x = torch.rand(1,9)\n",
        "\n",
        "torch.manual_seed(RANDOM_SEED)\n",
        "y = torch.rand(1,9)\n",
        "\n",
        "x == y\n",
        "\n",
        "# Putting tensors/models on the GPU\n",
        "\n",
        "device = 'cuda' if torch.cuda.is_available() else 'cpu'\n",
        "tensor = torch.tensor([1, 2, 3])\n",
        "print(tensor, tensor.device)\n",
        " \n"
      ],
      "metadata": {
        "colab": {
          "base_uri": "https://localhost:8080/"
        },
        "id": "ZpGoNw1dooA5",
        "outputId": "5b5e4566-1c69-4913-c19c-95aa9dfa65a8"
      },
      "execution_count": null,
      "outputs": [
        {
          "output_type": "stream",
          "name": "stdout",
          "text": [
            "7 and 0 dimension.\n",
            "tensor([1, 7]) and 1 dimension.\n",
            "tensor([[1, 3],\n",
            "        [3, 5]]) and 2 dimension.\n",
            "tensor([[[1, 2, 3],\n",
            "         [4, 5, 6],\n",
            "         [7, 8, 9]]]) and 3 dimension.\n",
            "tensor([1, 2, 3]) cpu\n"
          ]
        }
      ]
    },
    {
      "cell_type": "code",
      "source": [
        "  "
      ],
      "metadata": {
        "id": "vVbQ7rr1slKF"
      },
      "execution_count": null,
      "outputs": []
    }
  ]
}