{
  "nbformat": 4,
  "nbformat_minor": 0,
  "metadata": {
    "colab": {
      "provenance": []
    },
    "kernelspec": {
      "name": "python3",
      "display_name": "Python 3"
    },
    "language_info": {
      "name": "python"
    }
  },
  "cells": [
    {
      "cell_type": "markdown",
      "source": [
        "<<`QUESTION 3`>>### **Change get_ds and get_dl functions by getting CIFAR10, CIFAR100, and one more (as you wish) dataset from torchvision.datasets library. Check documentation of torchvision.datasets library using this link.**"
      ],
      "metadata": {
        "id": "rRB0RtOIE-4Y"
      }
    },
    {
      "cell_type": "code",
      "source": [
        "import torch\n",
        "from torchvision.datasets import CIFAR10, CIFAR100, FashionMNIST # import datasets\n",
        "\n",
        "# Analyze CIFAR10 dataset\n",
        "\n",
        "train_data = CIFAR10(root = 'data', train = True, download = True)\n",
        "test_data = CIFAR10(root = 'data', train = False, download = True)\n",
        "\n",
        "# Analyze CIFAR100 dataset\n",
        "\n",
        "train_data_two = CIFAR100(root = 'data', train = True, download = True)\n",
        "test_data_two = CIFAR100(root = 'data', train = False, download = True)\n",
        "\n",
        "# Analyze FashionMNIST dataset\n",
        "\n",
        "fashion_train_dataset = FashionMNIST(root = 'data', train = True, download = True)"
      ],
      "metadata": {
        "colab": {
          "base_uri": "https://localhost:8080/"
        },
        "id": "dVj2RcHJFAc3",
        "outputId": "c711cc4e-ea70-413f-8062-c2deae91514c"
      },
      "execution_count": null,
      "outputs": [
        {
          "output_type": "stream",
          "name": "stdout",
          "text": [
            "Files already downloaded and verified\n",
            "Files already downloaded and verified\n",
            "Files already downloaded and verified\n",
            "Files already downloaded and verified\n"
          ]
        }
      ]
    },
    {
      "cell_type": "code",
      "source": [
        "\n",
        "print(f'My CIFAR10 has {len(train_data)} train and {len(test_data)} test data.') # print CIFAR10 datasets\n",
        "\n",
        "print(f'My CIFAR100 has {len(train_data_two)} train and {len(test_data_two)} test data.')  # print CIFAR100 datasets\n",
        "\n",
        "data_image_CIFAR10,GT_CIFAR10 = train_data[500] # get 500th image of CIFAR10\n",
        "\n",
        "data_image_CIFAR100,GT_CIFAR100 = train_data[253] # get 253rd image of CIFAR100\n",
        "\n",
        "print(f'CIFAR10 : {type(GT_CIFAR10)}')\n",
        "print(f'CIFAR100: {type(GT_CIFAR100)}')\n",
        "\n",
        "print(\"CIFAR10 IMAGE:\")\n",
        "display(data_image_CIFAR10)\n",
        "\n",
        "print(\"CIFAR100 IMAGE:\")\n",
        "display(data_image_CIFAR100)"
      ],
      "metadata": {
        "colab": {
          "base_uri": "https://localhost:8080/",
          "height": 185
        },
        "id": "Ebuvff9wF2VG",
        "outputId": "cfbfd2fc-937c-4b2e-be3f-a638e92e50b9"
      },
      "execution_count": null,
      "outputs": [
        {
          "output_type": "stream",
          "name": "stdout",
          "text": [
            "My CIFAR10 has 50000 train and 10000 test data.\n",
            "My CIFAR100 has 50000 train and 10000 test data.\n",
            "CIFAR10 : <class 'int'>\n",
            "CIFAR100: <class 'int'>\n",
            "CIFAR10 IMAGE:\n"
          ]
        },
        {
          "output_type": "display_data",
          "data": {
            "text/plain": [
              "<PIL.Image.Image image mode=RGB size=32x32 at 0x7FA19E262860>"
            ],
            "image/png": "[encoded data removed]"
          },
          "metadata": {}
        },
        {
          "output_type": "stream",
          "name": "stdout",
          "text": [
            "CIFAR100 IMAGE:\n"
          ]
        },
        {
          "output_type": "display_data",
          "data": {
            "text/plain": [
              "<PIL.Image.Image image mode=RGB size=32x32 at 0x7FA19E2605B0>"
            ],
            "image/png": "[encoded data removed]"
          },
          "metadata": {}
        }
      ]
    },
    {
      "cell_type": "code",
      "source": [
        "# CIFAR10 dataset \n",
        "\n",
        "from torchvision import transforms as T\n",
        "\n",
        "def get_dl(root):\n",
        "   new_structure = T.Compose([\n",
        "       T.RandomGrayscale(),\n",
        "       T.ToTensor(),\n",
        "       T.Resize(100)\n",
        "   ])\n",
        "   train_data = CIFAR10(root = 'data', train = True, download = True, transform = new_structure)\n",
        "   test_data = CIFAR10(root = 'data', train = False, download = True) \n",
        "\n",
        "   return train_data, test_data\n",
        "new_data, test_data = get_dl('data')\n",
        "\n",
        "\n",
        "\n",
        "   \n"
      ],
      "metadata": {
        "colab": {
          "base_uri": "https://localhost:8080/"
        },
        "id": "bXW8HGYwGBXx",
        "outputId": "eec1af26-2cf5-4ceb-9a61-55551869e632"
      },
      "execution_count": null,
      "outputs": [
        {
          "output_type": "stream",
          "name": "stdout",
          "text": [
            "Files already downloaded and verified\n",
            "Files already downloaded and verified\n"
          ]
        }
      ]
    },
    {
      "cell_type": "code",
      "source": [
        "# CIFAR100 dataset \n",
        "\n",
        "from torchvision import transforms as T\n",
        "\n",
        "def get_dl_two(root):\n",
        "   new_structure_two = T.Compose([\n",
        "       T.RandomGrayscale(),\n",
        "       T.ToTensor(),\n",
        "       T.RandomHorizontalFlip()\n",
        "   ])\n",
        "   train_data_two = CIFAR100(root = 'data', train = True, download = True, transform = new_structure_two)\n",
        "   test_data_two = CIFAR100(root = 'data', train = False, download = True) \n",
        "\n",
        "   return train_data_two, test_data_two\n",
        "new_data_two, test_data_two = get_dl_two('data')\n"
      ],
      "metadata": {
        "colab": {
          "base_uri": "https://localhost:8080/"
        },
        "id": "0u8kS_YvCPSb",
        "outputId": "9aadbdfb-0944-404a-a4c1-a300b4b029e8"
      },
      "execution_count": null,
      "outputs": [
        {
          "output_type": "stream",
          "name": "stdout",
          "text": [
            "Files already downloaded and verified\n",
            "Files already downloaded and verified\n"
          ]
        }
      ]
    },
    {
      "cell_type": "markdown",
      "source": [
        "<<`QUESTION 4`>> ### **Change “drop_last” argument in torch.utils.data.DataLoader class and see how the length of data loaders change in the three datasets from problem#3.**\n"
      ],
      "metadata": {
        "id": "k-aAhj2KaX55"
      }
    },
    {
      "cell_type": "code",
      "source": [
        "#Drop_Last -> The drop_last=True parameter ignores the last batch (when the number of examples in your dataset is \n",
        "#not divisible by your batch_size) while drop_last=False will make the last batch smaller than my batch_size .\n",
        "from torch.utils.data.dataloader import DataLoader\n",
        "from torch.utils.data.dataset import Dataset\n",
        "\n",
        "\n",
        "# CIFAR10 dataset: testing drop_last with train set\n",
        "\n",
        "BATCH_SIZE = 128 \n",
        "dt_T = DataLoader(dataset = train_data, batch_size = BATCH_SIZE, drop_last = True)\n",
        "print(f'CIFAR10 drop_last = TRUE : {len(dt_T)}') # output : 390 bcz my train_data = 50000 and batches 128 : 50000 / 128 = 390 but drop value : -80 less 49920\n",
        "\n",
        "dt_F = DataLoader(dataset = train_data, batch_size = BATCH_SIZE, drop_last = False)\n",
        "print(f'CIFAR10 drop_last = FALSE : {len(dt_T)}\\n') # output : 391 bcz my train_data = 50000 and batches 128 : 50000 / 128 = 391 but drop value : +48 more 50048\n",
        "\n",
        "# CIFAR100 dataset: testing drop_last with test set\n",
        "\n",
        "BATCH_SIZE_two = 32 \n",
        "dt_T_two = DataLoader(dataset = test_data_two, batch_size = BATCH_SIZE_two, drop_last = True)\n",
        "print(f'CIFAR100 drio_last = TRUE :{len(dt_T_two)}') # output : 390 bcz my train_data = 10000 and batches 32 : 10000 / 32 = 312 but drop value : -16 less 9984\n",
        "\n",
        "dt_F_two = DataLoader(dataset = test_data_two, batch_size = BATCH_SIZE_two, drop_last = False)\n",
        "print(f'CIFAR100 drio_last = FALSE :{len(dt_T_two)}\\n') # output : 391 bcz my train_data = 10000 and batches 32 : 10000 / 32 = 313 but drop value : +16 more 10016\n",
        "\n",
        "# FashionMNIST dataset: testing drop_last with train set\n",
        "\n",
        "BATCH_SIZE_three = 256 \n",
        "fashion_T_three = DataLoader(dataset = fashion_train_dataset, batch_size = BATCH_SIZE_three, drop_last = True)\n",
        "print(f'FashionMNIST drop_last = TRUE :{len(fashion_T_three)}') # 234 * 256 = 59904 and '- 96'\n",
        "\n",
        "fashion_T_three = DataLoader(dataset = fashion_train_dataset, batch_size = BATCH_SIZE_three, drop_last = False)\n",
        "print(f'FashionMNIST drop_last = FALSE :{len(fashion_T_three)}') # 235 * 256 = 60160 '+160'"
      ],
      "metadata": {
        "colab": {
          "base_uri": "https://localhost:8080/"
        },
        "id": "SDgXRo8eahq4",
        "outputId": "6a047bf5-88a1-4bb7-d45a-2a2e2bcb911c"
      },
      "execution_count": null,
      "outputs": [
        {
          "output_type": "stream",
          "name": "stdout",
          "text": [
            "CIFAR10 drop_last = TRUE : 390\n",
            "CIFAR10 drop_last = FALSE : 390\n",
            "\n",
            "CIFAR100 drio_last = TRUE :312\n",
            "CIFAR100 drio_last = FALSE :312\n",
            "\n",
            "FashionMNIST drop_last = TRUE :234\n",
            "FashionMNIST drop_last = FALSE :235\n"
          ]
        }
      ]
    },
    {
      "cell_type": "markdown",
      "source": [
        "*<<`QUESTION 05`>>* **Change “shuffle” argument in the torch.utils.data.DataLoader class and try to visualize images\n",
        "using next(iter(tr_dl)) and see how the order of images in the dataloader change.**"
      ],
      "metadata": {
        "id": "zup2rwTwmqmn"
      }
    },
    {
      "cell_type": "code",
      "source": [
        "# Shuffle : when we use batches and if the computer have to analyze certain amount of data, sometimes we have one proplem that is \n",
        "#similarity of data. In order to predict better, we have to use shuffle in train set. And we can analyze and make better models.\n",
        "import numpy as np\n",
        "import matplotlib.pyplot as plt\n",
        "%matplotlib inline\n",
        "\n",
        "BATCH_SIZE = 128 \n",
        "\n",
        "dt_T = DataLoader(dataset = new_data, batch_size = BATCH_SIZE, drop_last = True, shuffle = True)\n",
        "images, labels = next(iter(dt_T)) # image output: torch.Size([128, 3, 100, 100])\n",
        "\n",
        "torch_image = torch.squeeze(images[0]) # output: torch.Size([3, 100, 100]) squeeze I used to delete one dimension '128'\n",
        "image = torch_image.numpy()\n",
        "\n",
        "plt.imshow(image.T) # not it is 3MN to change MN3 I have to use '.T'\n",
        "plt.show()\n",
        "# here I used shuffle = True and even If i update or run my code the output image will be different every time.\n",
        "# if I make shuffle = False, the result is the same\n",
        "\n",
        "# CIFAR 100 dataset example : here is the same result, but when I make shuffle 'False', the data inside my dataset will not shuffle\n",
        "#BATCH_SIZE_two = 32\n",
        "\n",
        "#dt_T_two = DataLoader(dataset = new_data_two, batch_size = BATCH_SIZE_two, drop_last = True, shuffle = False)\n",
        "#images_two, labels_two = next(iter(dt_T_two)) \n",
        "\n",
        "#torch_image_two = torch.squeeze(images[0])\n",
        "#image_two = torch_image_two.numpy()\n",
        "\n",
        "#plt.imshow(image_two.T)\n",
        "#plt.show()"
      ],
      "metadata": {
        "colab": {
          "base_uri": "https://localhost:8080/",
          "height": 433
        },
        "id": "p-EUzK_bnYMJ",
        "outputId": "bfd01862-ed72-4b04-e585-96a3a9b8eb11"
      },
      "execution_count": null,
      "outputs": [
        {
          "output_type": "display_data",
          "data": {
            "text/plain": [
              "<Figure size 640x480 with 1 Axes>"
            ],
            "image/png": "[encoded data removed]"
          },
          "metadata": {}
        }
      ]
    }
  ]
}