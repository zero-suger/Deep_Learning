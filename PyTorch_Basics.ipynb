{
  "nbformat": 4,
  "nbformat_minor": 0,
  "metadata": {
    "colab": {
      "provenance": []
    },
    "kernelspec": {
      "name": "python3",
      "display_name": "Python 3"
    },
    "language_info": {
      "name": "python"
    }
  },
  "cells": [
    {
      "cell_type": "code",
      "execution_count": 14,
      "metadata": {
        "id": "TfAxMt_-E2Ka"
      },
      "outputs": [],
      "source": [
        "import torch"
      ]
    },
    {
      "cell_type": "markdown",
      "source": [
        "# **Tensor** - A tensor is a number, vector, matrix or any n-dimensial array."
      ],
      "metadata": {
        "id": "RM-QNLNYdRqL"
      }
    },
    {
      "cell_type": "code",
      "source": [
        "tensor_number = torch.tensor(4.)\n",
        "tensor_number\n",
        "tensor_number.dtype # shows the type of tensor in this case it is 32 and number"
      ],
      "metadata": {
        "colab": {
          "base_uri": "https://localhost:8080/"
        },
        "id": "D1Yn4DuKdMGx",
        "outputId": "35cb616a-60db-4411-ad03-c270c584fa77"
      },
      "execution_count": 15,
      "outputs": [
        {
          "output_type": "execute_result",
          "data": {
            "text/plain": [
              "torch.float32"
            ]
          },
          "metadata": {},
          "execution_count": 15
        }
      ]
    },
    {
      "cell_type": "code",
      "source": [
        "tensor_vector = torch.tensor([12, 22, 32, 45]) # tensor vector\n",
        "tensor_vector"
      ],
      "metadata": {
        "colab": {
          "base_uri": "https://localhost:8080/"
        },
        "id": "whuWSohKdoh4",
        "outputId": "b93ba4df-9a13-4ba0-cf92-7b91c439292d"
      },
      "execution_count": 16,
      "outputs": [
        {
          "output_type": "execute_result",
          "data": {
            "text/plain": [
              "tensor([12, 22, 32, 45])"
            ]
          },
          "metadata": {},
          "execution_count": 16
        }
      ]
    },
    {
      "cell_type": "code",
      "source": [
        "tensor_matrix = torch.tensor([[12,45], [77,33], [45,65]]) # tensor matrix\n",
        "tensor_matrix"
      ],
      "metadata": {
        "colab": {
          "base_uri": "https://localhost:8080/"
        },
        "id": "F31aE3wteS_G",
        "outputId": "fbe7aa0c-4865-4d6a-d44e-cfdfe77494c1"
      },
      "execution_count": 17,
      "outputs": [
        {
          "output_type": "execute_result",
          "data": {
            "text/plain": [
              "tensor([[12, 45],\n",
              "        [77, 33],\n",
              "        [45, 65]])"
            ]
          },
          "metadata": {},
          "execution_count": 17
        }
      ]
    },
    {
      "cell_type": "code",
      "source": [
        "tensor_array = torch.tensor([[[12,32], [55,66]],[[78,98],[56,22]]])\n",
        "tensor_array # dimensional array"
      ],
      "metadata": {
        "colab": {
          "base_uri": "https://localhost:8080/"
        },
        "id": "HWu4gE2QendV",
        "outputId": "2d2e399c-aad9-4446-f367-4201aed3d0c2"
      },
      "execution_count": 19,
      "outputs": [
        {
          "output_type": "execute_result",
          "data": {
            "text/plain": [
              "tensor([[[12, 32],\n",
              "         [55, 66]],\n",
              "\n",
              "        [[78, 98],\n",
              "         [56, 22]]])"
            ]
          },
          "metadata": {},
          "execution_count": 19
        }
      ]
    },
    {
      "cell_type": "markdown",
      "source": [
        "We can use **.shape** to check the length of array"
      ],
      "metadata": {
        "id": "rWVoPteEfxmT"
      }
    },
    {
      "cell_type": "code",
      "source": [
        "tensor_number.shape\n",
        "tensor_array.shape\n",
        "tensor_vector.shape\n",
        "tensor_matrix.shape"
      ],
      "metadata": {
        "colab": {
          "base_uri": "https://localhost:8080/"
        },
        "id": "34bJDMvOfCXW",
        "outputId": "1eadfd17-13fe-4268-fd7b-006571742049"
      },
      "execution_count": 20,
      "outputs": [
        {
          "output_type": "execute_result",
          "data": {
            "text/plain": [
              "torch.Size([3, 2])"
            ]
          },
          "metadata": {},
          "execution_count": 20
        }
      ]
    },
    {
      "cell_type": "markdown",
      "source": [
        "# **Tensor Opertions and Gradients**"
      ],
      "metadata": {
        "id": "TxBdTzVTguex"
      }
    },
    {
      "cell_type": "code",
      "source": [
        "a = torch.tensor(17.)\n",
        "b = torch.tensor(21.)\n",
        "c = torch.tensor(4., requires_grad = True) # In ML, I need derivatives a lot. Require_grad is the function\n",
        "\n",
        "y = a*b + c # can calculate this tensor by using the floating single number\n",
        "c.grad\n",
        "c"
      ],
      "metadata": {
        "colab": {
          "base_uri": "https://localhost:8080/"
        },
        "id": "85J9gn28gwdE",
        "outputId": "0992fd03-17e7-46c0-9920-65ee7345d967"
      },
      "execution_count": 30,
      "outputs": [
        {
          "output_type": "execute_result",
          "data": {
            "text/plain": [
              "tensor(4., requires_grad=True)"
            ]
          },
          "metadata": {},
          "execution_count": 30
        }
      ]
    },
    {
      "cell_type": "markdown",
      "source": [
        "# **Interoperability with numpy**\n",
        "Numpy is Pyhton library use to work with array.\n",
        "**Matplotlib** - for visualization and plotting\n",
        "**OpenCV** - for image and video processing\n",
        "**Pandas** - for file I/O and data analysis"
      ],
      "metadata": {
        "id": "i5q4F7chipg7"
      }
    },
    {
      "cell_type": "code",
      "source": [
        "import numpy as np\n",
        "\n",
        "x = np.array([[1,2],[3,3]]) # craete a array\n",
        "\n",
        "y = torch.from_numpy(x) # convert numpy to tensor\n",
        "z = y.numpy() # convert tensor to numpy"
      ],
      "metadata": {
        "colab": {
          "base_uri": "https://localhost:8080/"
        },
        "id": "H5bpu-xnhxqb",
        "outputId": "56f59fe5-eaa7-4acc-d873-09675394cea7"
      },
      "execution_count": 36,
      "outputs": [
        {
          "output_type": "execute_result",
          "data": {
            "text/plain": [
              "tensor([[1, 2],\n",
              "        [3, 3]])"
            ]
          },
          "metadata": {},
          "execution_count": 36
        }
      ]
    },
    {
      "cell_type": "markdown",
      "source": [
        "**Array vs Tensor : ** Actually arrays works with CPU and it takes time, but tensors are used by torch and it is powered with NIVEA GPU and it takes less time than CPU. "
      ],
      "metadata": {
        "id": "I7evc3F1lHWz"
      }
    },
    {
      "cell_type": "code",
      "source": [],
      "metadata": {
        "id": "B9ZpzGPvjgGe"
      },
      "execution_count": null,
      "outputs": []
    }
  ]
}