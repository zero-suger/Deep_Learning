{
  "nbformat": 4,
  "nbformat_minor": 0,
  "metadata": {
    "colab": {
      "provenance": []
    },
    "kernelspec": {
      "name": "python3",
      "display_name": "Python 3"
    },
    "language_info": {
      "name": "python"
    }
  },
  "cells": [
    {
      "cell_type": "code",
      "execution_count": null,
      "metadata": {
        "id": "TfAxMt_-E2Ka"
      },
      "outputs": [],
      "source": [
        "import torch"
      ]
    },
    {
      "cell_type": "markdown",
      "source": [
        "# **Tensor** - A tensor is a number, vector, matrix or any n-dimensial array."
      ],
      "metadata": {
        "id": "RM-QNLNYdRqL"
      }
    },
    {
      "cell_type": "code",
      "source": [
        "tensor_number = torch.tensor(4.)\n",
        "tensor_number\n",
        "tensor_number.dtype # shows the type of tensor in this case it is 32 and number"
      ],
      "metadata": {
        "colab": {
          "base_uri": "https://localhost:8080/"
        },
        "id": "D1Yn4DuKdMGx",
        "outputId": "35cb616a-60db-4411-ad03-c270c584fa77"
      },
      "execution_count": null,
      "outputs": [
        {
          "output_type": "execute_result",
          "data": {
            "text/plain": [
              "torch.float32"
            ]
          },
          "metadata": {},
          "execution_count": 15
        }
      ]
    },
    {
      "cell_type": "code",
      "source": [
        "tensor_vector = torch.tensor([12, 22, 32, 45]) # tensor vector\n",
        "tensor_vector"
      ],
      "metadata": {
        "colab": {
          "base_uri": "https://localhost:8080/"
        },
        "id": "whuWSohKdoh4",
        "outputId": "b93ba4df-9a13-4ba0-cf92-7b91c439292d"
      },
      "execution_count": null,
      "outputs": [
        {
          "output_type": "execute_result",
          "data": {
            "text/plain": [
              "tensor([12, 22, 32, 45])"
            ]
          },
          "metadata": {},
          "execution_count": 16
        }
      ]
    },
    {
      "cell_type": "code",
      "source": [
        "tensor_matrix = torch.tensor([[12,45], [77,33], [45,65]]) # tensor matrix\n",
        "tensor_matrix"
      ],
      "metadata": {
        "colab": {
          "base_uri": "https://localhost:8080/"
        },
        "id": "F31aE3wteS_G",
        "outputId": "fbe7aa0c-4865-4d6a-d44e-cfdfe77494c1"
      },
      "execution_count": null,
      "outputs": [
        {
          "output_type": "execute_result",
          "data": {
            "text/plain": [
              "tensor([[12, 45],\n",
              "        [77, 33],\n",
              "        [45, 65]])"
            ]
          },
          "metadata": {},
          "execution_count": 17
        }
      ]
    },
    {
      "cell_type": "code",
      "source": [
        "tensor_array = torch.tensor([[[12,32], [55,66]],[[78,98],[56,22]]])\n",
        "tensor_array # dimensional array"
      ],
      "metadata": {
        "colab": {
          "base_uri": "https://localhost:8080/"
        },
        "id": "HWu4gE2QendV",
        "outputId": "2d2e399c-aad9-4446-f367-4201aed3d0c2"
      },
      "execution_count": null,
      "outputs": [
        {
          "output_type": "execute_result",
          "data": {
            "text/plain": [
              "tensor([[[12, 32],\n",
              "         [55, 66]],\n",
              "\n",
              "        [[78, 98],\n",
              "         [56, 22]]])"
            ]
          },
          "metadata": {},
          "execution_count": 19
        }
      ]
    },
    {
      "cell_type": "markdown",
      "source": [
        "We can use **.shape** to check the length of array"
      ],
      "metadata": {
        "id": "rWVoPteEfxmT"
      }
    },
    {
      "cell_type": "code",
      "source": [
        "tensor_number.shape\n",
        "tensor_array.shape\n",
        "tensor_vector.shape\n",
        "tensor_matrix.shape"
      ],
      "metadata": {
        "colab": {
          "base_uri": "https://localhost:8080/"
        },
        "id": "34bJDMvOfCXW",
        "outputId": "1eadfd17-13fe-4268-fd7b-006571742049"
      },
      "execution_count": null,
      "outputs": [
        {
          "output_type": "execute_result",
          "data": {
            "text/plain": [
              "torch.Size([3, 2])"
            ]
          },
          "metadata": {},
          "execution_count": 20
        }
      ]
    },
    {
      "cell_type": "markdown",
      "source": [
        "# **Tensor Opertions and Gradients**"
      ],
      "metadata": {
        "id": "TxBdTzVTguex"
      }
    },
    {
      "cell_type": "code",
      "source": [
        "a = torch.tensor(17.)\n",
        "b = torch.tensor(21.)\n",
        "c = torch.tensor(4., requires_grad = True) # In ML, I need derivatives a lot. Require_grad is the function\n",
        "\n",
        "y = a*b + c # can calculate this tensor by using the floating single number\n",
        "c.grad\n",
        "c"
      ],
      "metadata": {
        "colab": {
          "base_uri": "https://localhost:8080/"
        },
        "id": "85J9gn28gwdE",
        "outputId": "0992fd03-17e7-46c0-9920-65ee7345d967"
      },
      "execution_count": null,
      "outputs": [
        {
          "output_type": "execute_result",
          "data": {
            "text/plain": [
              "tensor(4., requires_grad=True)"
            ]
          },
          "metadata": {},
          "execution_count": 30
        }
      ]
    },
    {
      "cell_type": "markdown",
      "source": [
        "# **Interoperability with numpy**\n",
        "Numpy is Pyhton library use to work with array.\n",
        "**Matplotlib** - for visualization and plotting\n",
        "**OpenCV** - for image and video processing\n",
        "**Pandas** - for file I/O and data analysis"
      ],
      "metadata": {
        "id": "i5q4F7chipg7"
      }
    },
    {
      "cell_type": "code",
      "source": [
        "import numpy as np\n",
        "\n",
        "x = np.array([[1,2],[3,3]]) # craete a array\n",
        "\n",
        "y = torch.from_numpy(x) # convert numpy to tensor\n",
        "z = y.numpy() # convert tensor to numpy"
      ],
      "metadata": {
        "colab": {
          "base_uri": "https://localhost:8080/"
        },
        "id": "H5bpu-xnhxqb",
        "outputId": "56f59fe5-eaa7-4acc-d873-09675394cea7"
      },
      "execution_count": null,
      "outputs": [
        {
          "output_type": "execute_result",
          "data": {
            "text/plain": [
              "tensor([[1, 2],\n",
              "        [3, 3]])"
            ]
          },
          "metadata": {},
          "execution_count": 36
        }
      ]
    },
    {
      "cell_type": "markdown",
      "source": [
        "**Array vs Tensor : ** Actually arrays works with CPU and it takes time, but tensors are used by torch and it is powered with NIVEA GPU and it takes less time than CPU. "
      ],
      "metadata": {
        "id": "I7evc3F1lHWz"
      }
    },
    {
      "cell_type": "code",
      "source": [
        "\n",
        "import torch\n",
        "import numpy as np\n",
        "import pandas as pd\n",
        "import matplotlib.pyplot as plt\n",
        "\n",
        "print(torch.__version__)\n",
        "\n"
      ],
      "metadata": {
        "id": "B9ZpzGPvjgGe",
        "colab": {
          "base_uri": "https://localhost:8080/"
        },
        "outputId": "8a0989d8-9782-49f9-be03-f73c19d6526e"
      },
      "execution_count": 1,
      "outputs": [
        {
          "output_type": "stream",
          "name": "stdout",
          "text": [
            "2.0.0+cu118\n"
          ]
        }
      ]
    },
    {
      "cell_type": "markdown",
      "source": [
        "# **Introduction to Tensors :**"
      ],
      "metadata": {
        "id": "I4-RO-k2-0Mq"
      }
    },
    {
      "cell_type": "code",
      "source": [
        "from torch.storage import T\n",
        "scaler = torch.tensor(7)\n",
        "print(f'{scaler} and {scaler.ndim} dimension.')\n",
        "\n",
        "vector = torch.tensor([1,7])\n",
        "print(f'{vector} and {vector.ndim} dimension.')\n",
        "\n",
        "MATRIX = torch.tensor([[1,3], [3,5]])\n",
        "print(f'{MATRIX} and {MATRIX.ndim} dimension.')\n",
        "\n",
        "TENSOR = torch.tensor([[[1, 2, 3],\n",
        "                        [4, 5, 6],\n",
        "                        [7, 8, 9]\n",
        "                        ]])\n",
        "print(f'{TENSOR} and {TENSOR.ndim} dimension.')\n",
        "\n",
        "\n",
        "# importing random numbers for tensor:\n",
        "\n",
        "random_tensor = torch.rand(2,3)\n",
        "random_tensor\n",
        "\n",
        "# ones and zeros\n",
        "\n",
        "ones = torch.ones(3,4) # print three by four tensor consists of only ones\n",
        "zeros = torch.zeros(3,4)  # print three by four tensor consists of only zeros\n",
        "zeros.dtype # show the types of data\n",
        "\n",
        "# creating the range of tensors and tensor-like\n",
        "\n",
        "tensor_range = torch.arange(1, 77, 2) # in latest update of pytorch we should use arange instead of range  \n",
        "tensor_like = torch.zeros_like(tensor_range) # take the size of above mentioned tensor and make the same size of tensor like that\n",
        "\n",
        "# tensor operations  \n",
        "\n",
        "tensor_number_set = torch.tensor([1, 2, 3, 4, 5, 6])\n",
        "tensor_number_set + 10 # torch.add(tensor_number_set, 10)\n",
        "tensor_number_set * 10 # torch.mul(tensor_number_set, 10)\n",
        "tensor_number_set - 10\n",
        "\n",
        "#matrix multipilication. \n",
        "\n",
        "tensor_number_set = torch.tensor([1, 2, 3, 4, 5, 6])\n",
        "torch.matmul(tensor_number_set, tensor_number_set) # torch.matmul is equal to torch.mm \n",
        "\n",
        "# common mistakes and two main rules: 1) innter dimension must match which means that (3,2) and (3,2) can't multiply\n",
        "# because inner value should match. and (3, 2) * (2, 3), now inner values match two and two. For example :\n",
        "\n",
        "first_set = torch.tensor([[1,2],\n",
        "                         [3,4],\n",
        "                         [5,6]])\n",
        "second_set = torch.tensor([[7,8],\n",
        "                          [9,10],\n",
        "                          [11,12]])\n",
        "\n",
        "\n",
        "#RuntimeError: mat1 and mat2 shapes cannot be multiplied (3x2 and 3x2) : bcz od inner dimension problem. To solve this, we can use,\n",
        "#'Transpose' (tensor_set_name.T) which switches the axes or dimensions of the given tensor.\n",
        "\n",
        "first_set = first_set.T \n",
        "torch.mm(first_set, second_set)\n",
        "\n",
        "# Finding min, max, mean, sum, etc (tensor aggregation)\n",
        "\n",
        "tensor_aggregation = torch.rand(1,10)\n",
        "torch.min(tensor_aggregation)\n",
        "torch.max(tensor_aggregation)\n",
        "torch.mean(tensor_aggregation)\n",
        "torch.sum(tensor_aggregation)\n",
        "\n",
        "# finding the min and max value position\n",
        "\n",
        "tensor_aggregation.argmin() # index of min value\n",
        "tensor_aggregation.argmin() # index of max value\n",
        "\n",
        "# reproducbility random _seed as the same as sklearn\n",
        "\n",
        "RANDOM_SEED = 42\n",
        "\n",
        "torch.manual_seed(RANDOM_SEED)\n",
        "x = torch.rand(1,9)\n",
        "\n",
        "torch.manual_seed(RANDOM_SEED)\n",
        "y = torch.rand(1,9)\n",
        "\n",
        "x == y\n",
        "\n",
        "# Putting tensors/models on the GPU\n",
        "\n",
        "device = 'cuda' if torch.cuda.is_available() else 'cpu'\n",
        "tensor = torch.tensor([1, 2, 3])\n",
        "print(tensor, tensor.device)\n",
        " "
      ],
      "metadata": {
        "id": "F-IfV2d1-jUc"
      },
      "execution_count": null,
      "outputs": []
    }
  ]
}