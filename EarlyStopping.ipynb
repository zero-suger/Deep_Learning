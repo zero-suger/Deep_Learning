{
  "nbformat": 4,
  "nbformat_minor": 0,
  "metadata": {
    "colab": {
      "provenance": []
    },
    "kernelspec": {
      "name": "python3",
      "display_name": "Python 3"
    },
    "language_info": {
      "name": "python"
    }
  },
  "cells": [
    {
      "cell_type": "code",
      "execution_count": null,
      "metadata": {
        "id": "uPyoBU9osSmk"
      },
      "outputs": [],
      "source": [
        "class EarlyStopping:\n",
        "    \n",
        "    def __init__(self, metric_to_track, patience, threshold):\n",
        "        \n",
        "        assert metric_to_track in [\"loss\", \"acc\"], \"Loss (loss) yoki accuracy (acc) dan birini tanlang\"\n",
        "        self.metric_to_track, self.patience, self.threshold = metric_to_track, patience, threshold\n",
        "        self.counter, self.early_stop = 0, False\n",
        "        \n",
        "        self.best_value = torch.tensor(float(\"inf\")) if metric_to_track == \"loss\" else torch.tensor(float(\"-inf\"))\n",
        "        \n",
        "    def __call__(self, current_value): \n",
        "        # current_value (epochdan loss) = 0.7; best_value = 0.82; threshold = 0.1; loss kamayyapti\n",
        "        # current_value = 0.9; best_value = 0.82; threshold = 0.1; loss oshyapti\n",
        "        print(f\"{self.metric_to_track} ni kuzatyapmiz!\")\n",
        "        \n",
        "        if self.metric_to_track == \"loss\":\n",
        "            \n",
        "            if current_value > (self.best_value - self.threshold): self.counter += 1\n",
        "            else: self.best_value = current_value\n",
        "                \n",
        "        elif self.metric_to_track == \"acc\":\n",
        "            \n",
        "            if current_value < (self.best_value + self.threshold): self.counter += 1\n",
        "            else: self.best_value = current_value\n",
        "                \n",
        "        if self.counter >= self.patience:\n",
        "            print(f\"{self.metric_to_track} {self.counter} marta o'zgarmagani uchun trainni to'xtatyapman!\")\n",
        "            self.early_stop = True   \n",
        "            \n",
        "# early_stopping = EarlyStopping(metric_to_track = \"loss\", patience = 2, threshold = 0.01)\n",
        "early_stopping = EarlyStopping(metric_to_track = \"acc\", patience = 2, threshold = 0.01)\n",
        "early_stopping"
      ]
    }
  ]
}